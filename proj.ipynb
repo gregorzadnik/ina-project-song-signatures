{
 "cells": [
  {
   "cell_type": "code",
   "execution_count": 1,
   "metadata": {},
   "outputs": [],
   "source": [
    "from collections import defaultdict, deque\n",
    "import random\n",
    "import numpy as np\n",
    "import os\n",
    "from typing import *\n",
    "from tqdm import tqdm\n",
    "import networkx as nx\n",
    "from matplotlib import pyplot as plt\n",
    "\n",
    "DEFAULT_DATA_FOLDER = \"./networks\""
   ]
  },
  {
   "cell_type": "code",
   "execution_count": 109,
   "metadata": {},
   "outputs": [
    {
     "name": "stdout",
     "output_type": "stream",
     "text": [
      "6478\n",
      "31070\n"
     ]
    }
   ],
   "source": [
    "def read(filepath):\n",
    "    G = nx.Graph()\n",
    "    with open(filepath, 'r', encoding=\"utf-8\") as file:\n",
    "        line = file.readline()\n",
    "        n = int(line.strip().split(\" \")[1])\n",
    "        for _ in range(n):\n",
    "            parts = file.readline().strip().split(\"!\")\n",
    "            id = int(parts[0])\n",
    "            name = parts[1]\n",
    "            label = parts[2].strip()\n",
    "            G.add_node(id, name=name, label=label)\n",
    "        line = file.readline()\n",
    "        m = int(line.strip().split(\" \")[1])\n",
    "        for _ in range(m):\n",
    "            parts = file.readline().strip().split(\" \")\n",
    "            G.add_edge(int(parts[0]), int(parts[1]))\n",
    "    return nx.convert_node_labels_to_integers(G)\n",
    "\n",
    "\n",
    "filepath = \"works.net\"\n",
    "G = read(filepath)\n",
    "n = G.number_of_nodes()\n",
    "m = G.number_of_edges()\n",
    "G.name = \"works\"\n",
    "print(n)\n",
    "print(m)"
   ]
  },
  {
   "cell_type": "code",
   "execution_count": 3,
   "metadata": {},
   "outputs": [],
   "source": [
    "# vir: https://github.com/lovre/www/blob/master/ina/labs/utils.py\n",
    "\n",
    "def info(G: nx.Graph, distance_sample: int | None = None,\n",
    "         clustering_sample: int | None = 10_000) -> None:\n",
    "    \"\"\"Prints basic information on the provided graph.\n",
    "    - If distance_sample is given, distance statistics will be computed from\n",
    "    a sample of nodes (of given size).\n",
    "    - If clustering_sample is given, average clustering will be computed from\n",
    "    a sample of nodes (of given size).\n",
    "    \"\"\"\n",
    "    print(\"{:>12s} | '{:s}'\".format(str(G).split()[0], G.name))\n",
    "\n",
    "    n = G.number_of_nodes()\n",
    "    m = G.number_of_edges()\n",
    "\n",
    "    print(\"{:>12s} | {:,d} (iso={:,d})\".format(\n",
    "        'Nodes', n, nx.number_of_isolates(G)))\n",
    "    print(\"{:>12s} | {:,d} (loop={:,d})\".format(\n",
    "        'Edges', m, nx.number_of_selfloops(G)))\n",
    "\n",
    "    if G.is_directed():\n",
    "        print(\"{:>12s} | {:.2f} max(in={:d}, out={:d})\".format(\n",
    "            'Degree', m / n, max(k for _, k in G.in_degree()),\n",
    "            max(k for _, k in G.out_degree())))\n",
    "    else:\n",
    "        print(\"{:>12s} | {:.2f} (max={:,d})\".format(\n",
    "            'Degree', 2 * m / n, max((k for _, k in G.degree()))))\n",
    "\n",
    "    C = list(nx.connected_components(nx.Graph(G) if G.is_directed else G))\n",
    "    largest_comp = max(C, key=len)\n",
    "\n",
    "    print(\"{:>12s} | {:.1f}% (n={:,d})\".format(\n",
    "        'LCC', 100 * len(largest_comp) / n, len(C)))\n",
    "\n",
    "    if distance_sample is not None:\n",
    "        G_lcc = G.subgraph(largest_comp)\n",
    "        if n <= distance_sample:\n",
    "            mean = nx.average_shortest_path_length(G_lcc)\n",
    "            diam = nx.diameter(G_lcc)\n",
    "        else:\n",
    "            D = distances(G_lcc, n=distance_sample)\n",
    "            mean = np.mean(D)\n",
    "            diam = max(D)\n",
    "\n",
    "        print(\"{:>12s} | {:.2f} (max={:,d})\".format('Distance', mean, diam))\n",
    "\n",
    "    if clustering_sample is not None:\n",
    "        if isinstance(G, nx.MultiGraph):\n",
    "            G = nx.Graph(G)\n",
    "\n",
    "        clustering_on = G.nodes if n <= clustering_sample \\\n",
    "            else random.sample(list(G.nodes), k=clustering_sample)\n",
    "\n",
    "        print(\"{:>12s} | {:.4f}\".format(\n",
    "            'Clustering', nx.average_clustering(G, clustering_on)))\n",
    "    print()"
   ]
  },
  {
   "cell_type": "code",
   "execution_count": 4,
   "metadata": {},
   "outputs": [],
   "source": [
    "# vir: https://github.com/lovre/www/blob/master/ina/labs/utils.py\n",
    "\n",
    "def plot_degree(G: nx.Graph, save_path: str | None = None) -> None:\n",
    "    \"\"\"Plots degree distribution(s) on a log-log plot.\n",
    "    If save_path is given, the plot will be saved in given folder/file\n",
    "    instead of being shown.\"\"\"\n",
    "    plt.clf()\n",
    "    plt.title(G.name + \" degree distribution\")\n",
    "    plt.ylabel('$p_k$')\n",
    "    plt.xlabel('$k$')\n",
    "    n = G.number_of_nodes()\n",
    "\n",
    "    def aux(degree_view: Iterable, k_min: int, **kwargs):\n",
    "        degree_count = Counter(k for _, k in degree_view)\n",
    "        k_max = max(degree_count.keys())\n",
    "\n",
    "        x = list(range(k_min, k_max + 1))\n",
    "        y = [degree_count[i] / n for i in x]\n",
    "        plt.loglog(x, y, 'o', **kwargs)\n",
    "\n",
    "    if G.is_directed():\n",
    "        aux(G.out_degree, k_min=0, label=\"outdegree\", color=\"pink\")\n",
    "        aux(G.in_degree, k_min=0, label=\"indegree\", color=\"purple\", alpha=0.5)\n",
    "        plt.legend()\n",
    "    else:\n",
    "        aux(G.degree, k_min=1, color=\"gray\")\n",
    "\n",
    "    if save_path is None:\n",
    "        plt.show()\n",
    "    else:\n",
    "        if len(os.path.splitext(save_path)[1]) == 0: # no extension\n",
    "            plt.savefig(os.path.join(save_path, f\"{G.name}_degree_distro.pdf\"))\n",
    "        else:\n",
    "            plt.savefig(save_path)"
   ]
  },
  {
   "cell_type": "code",
   "execution_count": 5,
   "metadata": {},
   "outputs": [
    {
     "name": "stdout",
     "output_type": "stream",
     "text": [
      "       Graph | 'works'\n",
      "       Nodes | 6,478 (iso=81)\n",
      "       Edges | 31,070 (loop=0)\n",
      "      Degree | 9.59 (max=6,082)\n",
      "         LCC | 98.7% (n=82)\n",
      "  Clustering | 0.0000\n",
      "\n"
     ]
    },
    {
     "data": {
      "image/png": "[encoded data removed]",
      "text/plain": [
       "<Figure size 640x480 with 1 Axes>"
      ]
     },
     "metadata": {},
     "output_type": "display_data"
    }
   ],
   "source": [
    "info(G)\n",
    "plot_degree(G)"
   ]
  },
  {
   "cell_type": "code",
   "execution_count": 6,
   "metadata": {},
   "outputs": [],
   "source": [
    "def find_node(G: nx.Graph, label: str):\n",
    "    \"\"\"Finds node with given label in G.\"\"\"\n",
    "    for i, data in G.nodes(data=True):\n",
    "        if data['name'] == label:\n",
    "            return i\n",
    "    raise ValueError(f\"node '{label}' not found in {G.name}\")"
   ]
  },
  {
   "cell_type": "code",
   "execution_count": 98,
   "metadata": {},
   "outputs": [],
   "source": [
    "# vir: https://github.com/lovre/www/blob/master/ina/labs/utils.py\n",
    "\n",
    "def top_nodes(G: nx.Graph, C: Dict[Any, float], centrality: str, n=15, filter=[]) -> List[Any]:\n",
    "    \"\"\"prints and returns top n nodes by given measure of centrality\"\"\"\n",
    "\n",
    "    # OPT take callable instead of dict, only compute centrality on non-mode nodes\n",
    "    # OPT np.argpartition instead of sort\n",
    "    print(\"{:>12s} | '{:s}'\".format('Centrality', centrality))\n",
    "    nodes = []\n",
    "    filtered = C.items()\n",
    "    if len(filter) > 0:\n",
    "        filtered = [(node, pr) for node, pr in filtered if G.nodes[node]['label'] in filter]\n",
    "    for i, c in sorted(filtered, key=lambda item: (item[1], G.degree[item[0]]), reverse=True):\n",
    "        # if G.nodes[i]['label'] == 'Key':\n",
    "        nodes.append(G.nodes[i])\n",
    "        print(\"{:>12.6f} | '{:s}' ({:,d}) '{:s}'\".format(\n",
    "            c, G.nodes[i]['label'], G.degree[i], G.nodes[i]['name'][:30]))\n",
    "        n -= 1\n",
    "        if n == 0:\n",
    "            break\n",
    "    print()\n",
    "    return nodes\n",
    "\n",
    "\n",
    "def nodes_names(nodes) -> List[str]:\n",
    "    \"\"\"Parses labels of nodes in collaboration_imdb.net into\n",
    "    a nicer format. Try pasting the ouput of this function into\n",
    "    chatGPT if you have trouble classifying the actors.\"\"\"\n",
    "    names = []\n",
    "    for n in nodes:\n",
    "        try:\n",
    "            last, fst = n[\"label\"].split(\", \")\n",
    "            if fst[-1] == ')':\n",
    "                fst = fst[:fst.index('(') - 1]\n",
    "\n",
    "            names.append(f\"{fst} {last}\")\n",
    "        except ValueError: # failed unpacking\n",
    "            names.append(n[\"label\"])\n",
    "\n",
    "    return names\n"
   ]
  },
  {
   "cell_type": "code",
   "execution_count": 151,
   "metadata": {},
   "outputs": [],
   "source": [
    "def pagerank(G: nx.Graph, alpha=0.85, eps=1e-6, teleport: list | None=None, weights: list | None=None):\n",
    "    P = [1 / len(G)] * len(G)\n",
    "    diff = 1\n",
    "    # If weights is not none, put appropriate weight on the nodes,\n",
    "    # inversely proportional to their degree\n",
    "    while diff > eps:\n",
    "        U = [sum([P[j] * alpha / G.degree(j) for j in G[i]])\n",
    "             for i in G.nodes()]\n",
    "        u = sum(U)\n",
    "        if teleport is not None:\n",
    "            if weights is not None:\n",
    "                for ix, i in enumerate(teleport):\n",
    "                    w = weights[ix]\n",
    "                    U[i] += w\n",
    "            else:\n",
    "                for i in teleport:\n",
    "                    U[i] += (1 - u) / len(teleport)\n",
    "            c = sum(U)\n",
    "            U = [u / c for u in U]\n",
    "        else:\n",
    "            U = [U[i] + (1 - u) / len(G) for i in G.nodes()]\n",
    "        c = sum(U)\n",
    "        diff = sum([abs(P[i] - U[i]) for i in G.nodes()])\n",
    "        P = U\n",
    "    return {i: P[i] for i in range(len(P))}"
   ]
  },
  {
   "cell_type": "code",
   "execution_count": 157,
   "metadata": {},
   "outputs": [],
   "source": [
    "def calculate_pr_weights(G):\n",
    "    popular = find_node(G, \"Popular\")\n",
    "    all_popular = list(G.neighbors(popular))\n",
    "    all_keys = [node['name'] for ix, node in G.nodes(data=True) if node['label'] == 'Key']\n",
    "    node_to_key = {}\n",
    "    key_to_degree = {key: 0 for key in all_keys}\n",
    "    for node in all_popular:\n",
    "        for n in G.neighbors(node):\n",
    "            if G.nodes(data=True)[n]['label'] == 'Key':\n",
    "                node_to_key[node] = G.nodes(data=True)[n]['name']\n",
    "                key_to_degree[G.nodes(data=True)[n]['name']] += 1\n",
    "    weights = [key_to_degree[node_to_key[node]] if key_to_degree[node_to_key[node]] != 0 else 0 for node in all_popular]\n",
    "    weights2 = [sum(key_to_degree.values())/w for w in weights]\n",
    "    weights3 = [w/sum(weights2) for w in weights2]\n",
    "    #for w, f, frac in zip(weights, weights2, weights3):\n",
    "    #    print(f\"{w}, {f}, {frac}\")\n",
    "    return weights3\n",
    "\n",
    "weights = calculate_pr_weights(G)"
   ]
  },
  {
   "cell_type": "code",
   "execution_count": 158,
   "metadata": {},
   "outputs": [
    {
     "name": "stdout",
     "output_type": "stream",
     "text": [
      "  Centrality | 'Pagerank'\n",
      "    0.009119 | 'Key' (659) 'D major'\n",
      "    0.009006 | 'Key' (654) 'C major'\n",
      "    0.007443 | 'Key' (420) 'G minor'\n",
      "    0.007356 | 'Key' (458) 'E flat major'\n",
      "    0.007148 | 'Key' (438) 'D minor'\n",
      "    0.006338 | 'Key' (472) 'F major'\n",
      "    0.006166 | 'Key' (531) 'G major'\n",
      "    0.005924 | 'Key' (501) 'B flat major'\n",
      "    0.005872 | 'Key' (309) 'C minor'\n",
      "    0.005314 | 'Key' (351) 'A minor'\n",
      "    0.004787 | 'Key' (383) 'A major'\n",
      "    0.004358 | 'Key' (247) 'E minor'\n",
      "    0.002826 | 'Key' (153) 'B minor'\n",
      "    0.002669 | 'Key' (174) 'E major'\n",
      "    0.002505 | 'Key' (149) 'F minor'\n",
      "    0.001062 | 'Key' (22) 'B flat minor'\n",
      "    0.000959 | 'Key' (67) 'A flat major'\n",
      "    0.000853 | 'Key' (64) 'F sharp minor'\n",
      "    0.000729 | 'Key' (42) 'C sharp minor'\n",
      "    0.000599 | 'Key' (34) 'D flat major'\n",
      "    0.000256 | 'Key' (28) 'B major'\n",
      "    0.000209 | 'Key' (20) 'E flat minor'\n",
      "    0.000186 | 'Key' (18) 'F sharp major'\n",
      "    0.000103 | 'Key' (10) 'G flat major'\n",
      "    0.000044 | 'Key' (5) 'G sharp minor'\n",
      "    0.000030 | 'Key' (3) 'C sharp major'\n",
      "    0.000030 | 'Key' (2) 'A flat minor'\n",
      "\n",
      "  Centrality | 'Weighted pagerank'\n",
      "    0.008230 | 'Key' (67) 'A flat major'\n",
      "    0.008128 | 'Key' (42) 'C sharp minor'\n",
      "    0.008112 | 'Key' (64) 'F sharp minor'\n",
      "    0.008086 | 'Key' (34) 'D flat major'\n",
      "    0.002798 | 'Key' (22) 'B flat minor'\n",
      "    0.002402 | 'Key' (501) 'B flat major'\n",
      "    0.002348 | 'Key' (174) 'E major'\n",
      "    0.002326 | 'Key' (149) 'F minor'\n",
      "    0.002206 | 'Key' (383) 'A major'\n",
      "    0.002100 | 'Key' (531) 'G major'\n",
      "    0.001918 | 'Key' (153) 'B minor'\n",
      "    0.001771 | 'Key' (654) 'C major'\n",
      "    0.001754 | 'Key' (472) 'F major'\n",
      "    0.001748 | 'Key' (659) 'D major'\n",
      "    0.001719 | 'Key' (458) 'E flat major'\n",
      "    0.001594 | 'Key' (351) 'A minor'\n",
      "    0.001458 | 'Key' (247) 'E minor'\n",
      "    0.001405 | 'Key' (309) 'C minor'\n",
      "    0.001382 | 'Key' (438) 'D minor'\n",
      "    0.001304 | 'Key' (420) 'G minor'\n",
      "    0.000041 | 'Key' (18) 'F sharp major'\n",
      "    0.000040 | 'Key' (28) 'B major'\n",
      "    0.000034 | 'Key' (10) 'G flat major'\n",
      "    0.000031 | 'Key' (20) 'E flat minor'\n",
      "    0.000014 | 'Key' (5) 'G sharp minor'\n",
      "    0.000009 | 'Key' (3) 'C sharp major'\n",
      "    0.000005 | 'Key' (2) 'A flat minor'\n",
      "\n"
     ]
    }
   ],
   "source": [
    "popular_node = find_node(G, \"Popular\")\n",
    "nonpopular_node = find_node(G, \"Nonpopular\")\n",
    "#print(G.nodes(data=True)[popular_node])\n",
    "popular_neighbors = list(G.neighbors(popular_node))\n",
    "C = pagerank(G, teleport=popular_neighbors)\n",
    "nodes = top_nodes(G, C, 'Pagerank', n=40, filter=['Key'])\n",
    "weights = calculate_pr_weights(G)\n",
    "C = pagerank(G, teleport=popular_neighbors, weights=weights)\n",
    "nodes = top_nodes(G, C, 'Weighted pagerank', n=40, filter=['Key'])"
   ]
  },
  {
   "cell_type": "code",
   "execution_count": 117,
   "metadata": {},
   "outputs": [
    {
     "name": "stdout",
     "output_type": "stream",
     "text": [
      "Key\n"
     ]
    }
   ],
   "source": [
    "print(G.nodes[248]['label'])"
   ]
  },
  {
   "cell_type": "code",
   "execution_count": 72,
   "metadata": {},
   "outputs": [
    {
     "name": "stdout",
     "output_type": "stream",
     "text": [
      "  Centrality | 'Pagerank'\n"
     ]
    },
    {
     "ename": "TypeError",
     "evalue": "'int' object is not subscriptable",
     "output_type": "error",
     "traceback": [
      "\u001b[1;31m---------------------------------------------------------------------------\u001b[0m",
      "\u001b[1;31mTypeError\u001b[0m                                 Traceback (most recent call last)",
      "Cell \u001b[1;32mIn[72], line 5\u001b[0m\n\u001b[0;32m      3\u001b[0m popular_neighbors \u001b[38;5;241m=\u001b[39m \u001b[38;5;28mset\u001b[39m(G\u001b[38;5;241m.\u001b[39mneighbors(popular_node))\n\u001b[0;32m      4\u001b[0m C \u001b[38;5;241m=\u001b[39m pagerank(G, teleport\u001b[38;5;241m=\u001b[39mpopular_neighbors)\n\u001b[1;32m----> 5\u001b[0m nodes2 \u001b[38;5;241m=\u001b[39m \u001b[43mtop_nodes\u001b[49m\u001b[43m(\u001b[49m\u001b[43mG\u001b[49m\u001b[43m,\u001b[49m\u001b[43m \u001b[49m\u001b[43mC\u001b[49m\u001b[43m,\u001b[49m\u001b[43m \u001b[49m\u001b[38;5;124;43m'\u001b[39;49m\u001b[38;5;124;43mPagerank\u001b[39;49m\u001b[38;5;124;43m'\u001b[39;49m\u001b[43m,\u001b[49m\u001b[43m \u001b[49m\u001b[43mn\u001b[49m\u001b[38;5;241;43m=\u001b[39;49m\u001b[38;5;241;43m40\u001b[39;49m\u001b[43m,\u001b[49m\u001b[43m \u001b[49m\u001b[38;5;28;43mfilter\u001b[39;49m\u001b[38;5;241;43m=\u001b[39;49m\u001b[43m[\u001b[49m\u001b[38;5;124;43m'\u001b[39;49m\u001b[38;5;124;43mKey\u001b[39;49m\u001b[38;5;124;43m'\u001b[39;49m\u001b[43m]\u001b[49m\u001b[43m)\u001b[49m\n\u001b[0;32m      6\u001b[0m nodes2\n",
      "Cell \u001b[1;32mIn[41], line 17\u001b[0m, in \u001b[0;36mtop_nodes\u001b[1;34m(G, C, centrality, n, filter)\u001b[0m\n\u001b[0;32m     13\u001b[0m \u001b[38;5;28;01mfor\u001b[39;00m i, c \u001b[38;5;129;01min\u001b[39;00m \u001b[38;5;28msorted\u001b[39m(filtered, key\u001b[38;5;241m=\u001b[39m\u001b[38;5;28;01mlambda\u001b[39;00m item: (item[\u001b[38;5;241m1\u001b[39m], G\u001b[38;5;241m.\u001b[39mdegree[item[\u001b[38;5;241m0\u001b[39m]]), reverse\u001b[38;5;241m=\u001b[39m\u001b[38;5;28;01mTrue\u001b[39;00m):\n\u001b[0;32m     14\u001b[0m     \u001b[38;5;66;03m# if G.nodes[i]['label'] == 'Key':\u001b[39;00m\n\u001b[0;32m     15\u001b[0m     nodes\u001b[38;5;241m.\u001b[39mappend(G\u001b[38;5;241m.\u001b[39mnodes[i])\n\u001b[0;32m     16\u001b[0m     \u001b[38;5;28mprint\u001b[39m(\u001b[38;5;124m\"\u001b[39m\u001b[38;5;132;01m{:>12.6f}\u001b[39;00m\u001b[38;5;124m | \u001b[39m\u001b[38;5;124m'\u001b[39m\u001b[38;5;132;01m{:s}\u001b[39;00m\u001b[38;5;124m'\u001b[39m\u001b[38;5;124m (\u001b[39m\u001b[38;5;132;01m{:,d}\u001b[39;00m\u001b[38;5;124m) \u001b[39m\u001b[38;5;124m'\u001b[39m\u001b[38;5;132;01m{:s}\u001b[39;00m\u001b[38;5;124m'\u001b[39m\u001b[38;5;124m\"\u001b[39m\u001b[38;5;241m.\u001b[39mformat(\n\u001b[1;32m---> 17\u001b[0m         c, G\u001b[38;5;241m.\u001b[39mnodes[i][\u001b[38;5;124m'\u001b[39m\u001b[38;5;124mlabel\u001b[39m\u001b[38;5;124m'\u001b[39m], G\u001b[38;5;241m.\u001b[39mdegree[i], \u001b[43mG\u001b[49m\u001b[38;5;241;43m.\u001b[39;49m\u001b[43mnodes\u001b[49m\u001b[43m[\u001b[49m\u001b[43mi\u001b[49m\u001b[43m]\u001b[49m\u001b[43m[\u001b[49m\u001b[38;5;124;43m'\u001b[39;49m\u001b[38;5;124;43mname\u001b[39;49m\u001b[38;5;124;43m'\u001b[39;49m\u001b[43m]\u001b[49m\u001b[43m[\u001b[49m\u001b[43m:\u001b[49m\u001b[38;5;241;43m30\u001b[39;49m\u001b[43m]\u001b[49m))\n\u001b[0;32m     18\u001b[0m     n \u001b[38;5;241m-\u001b[39m\u001b[38;5;241m=\u001b[39m \u001b[38;5;241m1\u001b[39m\n\u001b[0;32m     19\u001b[0m     \u001b[38;5;28;01mif\u001b[39;00m n \u001b[38;5;241m==\u001b[39m \u001b[38;5;241m0\u001b[39m:\n",
      "\u001b[1;31mTypeError\u001b[0m: 'int' object is not subscriptable"
     ]
    }
   ],
   "source": [
    "popular_node = find_node(G, \"Popular\")\n",
    "#print(G.nodes(data=True)[popular_node])\n",
    "popular_neighbors = set(G.neighbors(popular_node))\n",
    "C = pagerank(G, teleport=popular_neighbors)\n",
    "nodes2 = top_nodes(G, C, 'Pagerank', n=40, filter=['Key'])\n",
    "nodes2"
   ]
  },
  {
   "cell_type": "code",
   "execution_count": 12,
   "metadata": {},
   "outputs": [
    {
     "name": "stdout",
     "output_type": "stream",
     "text": [
      "  Centrality | 'PageRank'\n",
      "    0.048260 | 'Popularity' (6,082) 'Nonpopular'\n",
      "    0.025207 | 'Genre' (1,976) 'Orchestral'\n",
      "    0.014877 | 'Genre' (2,098) 'Chamber'\n",
      "    0.014567 | 'Period' (730) 'Romantic'\n",
      "    0.011056 | 'Genre' (1,955) 'Keyboard'\n",
      "    0.010871 | 'Period' (2,381) 'Baroque'\n",
      "    0.010094 | 'Period' (694) 'Early Romantic'\n",
      "    0.007285 | 'Period' (1,412) 'Classical'\n",
      "    0.005602 | 'Key' (654) 'C major'\n",
      "    0.005596 | 'Composer' (188) 'Ludwig van Beethoven'\n",
      "    0.005364 | 'Period' (260) '20th Century'\n",
      "    0.005145 | 'Key' (458) 'E flat major'\n",
      "    0.005125 | 'Key' (501) 'B flat major'\n",
      "    0.004981 | 'Work' (5) 'String Quartet no. 2 in A mino'\n",
      "    0.004967 | 'Composer' (342) 'Wolfgang Amadeus Mozart'\n",
      "\n"
     ]
    },
    {
     "ename": "ModuleNotFoundError",
     "evalue": "No module named 'scipy'",
     "output_type": "error",
     "traceback": [
      "\u001b[1;31m---------------------------------------------------------------------------\u001b[0m",
      "\u001b[1;31mModuleNotFoundError\u001b[0m                       Traceback (most recent call last)",
      "Cell \u001b[1;32mIn[12], line 2\u001b[0m\n\u001b[0;32m      1\u001b[0m nodes_names(top_nodes(tmpG, pagerank(tmpG, teleport\u001b[38;5;241m=\u001b[39mpopular_neighbors), \u001b[38;5;124m\"\u001b[39m\u001b[38;5;124mPageRank\u001b[39m\u001b[38;5;124m\"\u001b[39m))\n\u001b[1;32m----> 2\u001b[0m nodes_names(top_nodes(G, \u001b[43mnx\u001b[49m\u001b[38;5;241;43m.\u001b[39;49m\u001b[43mpagerank\u001b[49m\u001b[43m(\u001b[49m\u001b[43mG\u001b[49m\u001b[43m)\u001b[49m, \u001b[38;5;124m\"\u001b[39m\u001b[38;5;124mPageRank\u001b[39m\u001b[38;5;124m\"\u001b[39m))\n",
      "File \u001b[1;32mc:\\Python311\\Lib\\site-packages\\networkx\\utils\\decorators.py:789\u001b[0m, in \u001b[0;36margmap.__call__.<locals>.func\u001b[1;34m(_argmap__wrapper, *args, **kwargs)\u001b[0m\n\u001b[0;32m    788\u001b[0m \u001b[38;5;28;01mdef\u001b[39;00m \u001b[38;5;21mfunc\u001b[39m(\u001b[38;5;241m*\u001b[39margs, __wrapper\u001b[38;5;241m=\u001b[39m\u001b[38;5;28;01mNone\u001b[39;00m, \u001b[38;5;241m*\u001b[39m\u001b[38;5;241m*\u001b[39mkwargs):\n\u001b[1;32m--> 789\u001b[0m     \u001b[38;5;28;01mreturn\u001b[39;00m \u001b[43margmap\u001b[49m\u001b[38;5;241;43m.\u001b[39;49m\u001b[43m_lazy_compile\u001b[49m\u001b[43m(\u001b[49m\u001b[43m__wrapper\u001b[49m\u001b[43m)\u001b[49m\u001b[43m(\u001b[49m\u001b[38;5;241;43m*\u001b[39;49m\u001b[43margs\u001b[49m\u001b[43m,\u001b[49m\u001b[43m \u001b[49m\u001b[38;5;241;43m*\u001b[39;49m\u001b[38;5;241;43m*\u001b[39;49m\u001b[43mkwargs\u001b[49m\u001b[43m)\u001b[49m\n",
      "File \u001b[1;32m<class 'networkx.utils.decorators.argmap'> compilation 49:3\u001b[0m, in \u001b[0;36margmap_pagerank_46\u001b[1;34m(G, alpha, personalization, max_iter, tol, nstart, weight, dangling, backend, **backend_kwargs)\u001b[0m\n\u001b[0;32m      1\u001b[0m \u001b[38;5;28;01mimport\u001b[39;00m \u001b[38;5;21;01mbz2\u001b[39;00m\n\u001b[0;32m      2\u001b[0m \u001b[38;5;28;01mimport\u001b[39;00m \u001b[38;5;21;01mcollections\u001b[39;00m\n\u001b[1;32m----> 3\u001b[0m \u001b[38;5;28;01mimport\u001b[39;00m \u001b[38;5;21;01mgzip\u001b[39;00m\n\u001b[0;32m      4\u001b[0m \u001b[38;5;28;01mimport\u001b[39;00m \u001b[38;5;21;01minspect\u001b[39;00m\n\u001b[0;32m      5\u001b[0m \u001b[38;5;28;01mimport\u001b[39;00m \u001b[38;5;21;01mitertools\u001b[39;00m\n",
      "File \u001b[1;32mc:\\Python311\\Lib\\site-packages\\networkx\\utils\\backends.py:633\u001b[0m, in \u001b[0;36m_dispatchable.__call__\u001b[1;34m(self, backend, *args, **kwargs)\u001b[0m\n\u001b[0;32m    628\u001b[0m \u001b[38;5;250m\u001b[39m\u001b[38;5;124;03m\"\"\"Returns the result of the original function, or the backend function if\u001b[39;00m\n\u001b[0;32m    629\u001b[0m \u001b[38;5;124;03mthe backend is specified and that backend implements `func`.\"\"\"\u001b[39;00m\n\u001b[0;32m    631\u001b[0m \u001b[38;5;28;01mif\u001b[39;00m \u001b[38;5;129;01mnot\u001b[39;00m backends:\n\u001b[0;32m    632\u001b[0m     \u001b[38;5;66;03m# Fast path if no backends are installed\u001b[39;00m\n\u001b[1;32m--> 633\u001b[0m     \u001b[38;5;28;01mreturn\u001b[39;00m \u001b[38;5;28;43mself\u001b[39;49m\u001b[38;5;241;43m.\u001b[39;49m\u001b[43morig_func\u001b[49m\u001b[43m(\u001b[49m\u001b[38;5;241;43m*\u001b[39;49m\u001b[43margs\u001b[49m\u001b[43m,\u001b[49m\u001b[43m \u001b[49m\u001b[38;5;241;43m*\u001b[39;49m\u001b[38;5;241;43m*\u001b[39;49m\u001b[43mkwargs\u001b[49m\u001b[43m)\u001b[49m\n\u001b[0;32m    635\u001b[0m \u001b[38;5;66;03m# Use `backend_name` in this function instead of `backend`\u001b[39;00m\n\u001b[0;32m    636\u001b[0m backend_name \u001b[38;5;241m=\u001b[39m backend\n",
      "File \u001b[1;32mc:\\Python311\\Lib\\site-packages\\networkx\\algorithms\\link_analysis\\pagerank_alg.py:110\u001b[0m, in \u001b[0;36mpagerank\u001b[1;34m(G, alpha, personalization, max_iter, tol, nstart, weight, dangling)\u001b[0m\n\u001b[0;32m      9\u001b[0m \u001b[38;5;129m@nx\u001b[39m\u001b[38;5;241m.\u001b[39m_dispatchable(edge_attrs\u001b[38;5;241m=\u001b[39m\u001b[38;5;124m\"\u001b[39m\u001b[38;5;124mweight\u001b[39m\u001b[38;5;124m\"\u001b[39m)\n\u001b[0;32m     10\u001b[0m \u001b[38;5;28;01mdef\u001b[39;00m \u001b[38;5;21mpagerank\u001b[39m(\n\u001b[0;32m     11\u001b[0m     G,\n\u001b[1;32m   (...)\u001b[0m\n\u001b[0;32m     18\u001b[0m     dangling\u001b[38;5;241m=\u001b[39m\u001b[38;5;28;01mNone\u001b[39;00m,\n\u001b[0;32m     19\u001b[0m ):\n\u001b[0;32m     20\u001b[0m \u001b[38;5;250m    \u001b[39m\u001b[38;5;124;03m\"\"\"Returns the PageRank of the nodes in the graph.\u001b[39;00m\n\u001b[0;32m     21\u001b[0m \n\u001b[0;32m     22\u001b[0m \u001b[38;5;124;03m    PageRank computes a ranking of the nodes in the graph G based on\u001b[39;00m\n\u001b[1;32m   (...)\u001b[0m\n\u001b[0;32m    108\u001b[0m \n\u001b[0;32m    109\u001b[0m \u001b[38;5;124;03m    \"\"\"\u001b[39;00m\n\u001b[1;32m--> 110\u001b[0m     \u001b[38;5;28;01mreturn\u001b[39;00m \u001b[43m_pagerank_scipy\u001b[49m\u001b[43m(\u001b[49m\n\u001b[0;32m    111\u001b[0m \u001b[43m        \u001b[49m\u001b[43mG\u001b[49m\u001b[43m,\u001b[49m\u001b[43m \u001b[49m\u001b[43malpha\u001b[49m\u001b[43m,\u001b[49m\u001b[43m \u001b[49m\u001b[43mpersonalization\u001b[49m\u001b[43m,\u001b[49m\u001b[43m \u001b[49m\u001b[43mmax_iter\u001b[49m\u001b[43m,\u001b[49m\u001b[43m \u001b[49m\u001b[43mtol\u001b[49m\u001b[43m,\u001b[49m\u001b[43m \u001b[49m\u001b[43mnstart\u001b[49m\u001b[43m,\u001b[49m\u001b[43m \u001b[49m\u001b[43mweight\u001b[49m\u001b[43m,\u001b[49m\u001b[43m \u001b[49m\u001b[43mdangling\u001b[49m\n\u001b[0;32m    112\u001b[0m \u001b[43m    \u001b[49m\u001b[43m)\u001b[49m\n",
      "File \u001b[1;32mc:\\Python311\\Lib\\site-packages\\networkx\\algorithms\\link_analysis\\pagerank_alg.py:453\u001b[0m, in \u001b[0;36m_pagerank_scipy\u001b[1;34m(G, alpha, personalization, max_iter, tol, nstart, weight, dangling)\u001b[0m\n\u001b[0;32m    368\u001b[0m \u001b[38;5;250m\u001b[39m\u001b[38;5;124;03m\"\"\"Returns the PageRank of the nodes in the graph.\u001b[39;00m\n\u001b[0;32m    369\u001b[0m \n\u001b[0;32m    370\u001b[0m \u001b[38;5;124;03mPageRank computes a ranking of the nodes in the graph G based on\u001b[39;00m\n\u001b[1;32m   (...)\u001b[0m\n\u001b[0;32m    450\u001b[0m \u001b[38;5;124;03m   http://dbpubs.stanford.edu:8090/pub/showDoc.Fulltext?lang=en&doc=1999-66&format=pdf\u001b[39;00m\n\u001b[0;32m    451\u001b[0m \u001b[38;5;124;03m\"\"\"\u001b[39;00m\n\u001b[0;32m    452\u001b[0m \u001b[38;5;28;01mimport\u001b[39;00m \u001b[38;5;21;01mnumpy\u001b[39;00m \u001b[38;5;28;01mas\u001b[39;00m \u001b[38;5;21;01mnp\u001b[39;00m\n\u001b[1;32m--> 453\u001b[0m \u001b[38;5;28;01mimport\u001b[39;00m \u001b[38;5;21;01mscipy\u001b[39;00m \u001b[38;5;28;01mas\u001b[39;00m \u001b[38;5;21;01msp\u001b[39;00m\n\u001b[0;32m    455\u001b[0m N \u001b[38;5;241m=\u001b[39m \u001b[38;5;28mlen\u001b[39m(G)\n\u001b[0;32m    456\u001b[0m \u001b[38;5;28;01mif\u001b[39;00m N \u001b[38;5;241m==\u001b[39m \u001b[38;5;241m0\u001b[39m:\n",
      "\u001b[1;31mModuleNotFoundError\u001b[0m: No module named 'scipy'"
     ]
    }
   ],
   "source": [
    "nodes_names(top_nodes(tmpG, pagerank(tmpG, teleport=popular_neighbors), \"PageRank\"))"
   ]
  },
  {
   "cell_type": "markdown",
   "metadata": {},
   "source": [
    "# Graph with randomly distributed edges"
   ]
  },
  {
   "cell_type": "code",
   "execution_count": 70,
   "metadata": {},
   "outputs": [],
   "source": [
    "G_randomized = nx.Graph()\n",
    "G_randomized.name = \"randomized attributes\"\n",
    "G_randomized.add_nodes_from(G.nodes(data=True))\n",
    "G_randomized.nodes(data=True)\n",
    "type_of_nodes = {'Composer': (1, 220), 'Period': (221, 230), 'Popularity': (231, 232), 'Genre': (233, 237), 'Key': (238, 264), 'Work': (265, 6478)}"
   ]
  },
  {
   "cell_type": "code",
   "execution_count": 71,
   "metadata": {},
   "outputs": [],
   "source": [
    "for work in range(type_of_nodes['Work'][0], type_of_nodes['Work'][1] + 1):\n",
    "    for attr in G[work]:\n",
    "        label = G.nodes[attr]['label']\n",
    "        edge_end = random.randint(type_of_nodes[label][0], type_of_nodes[label][1])\n",
    "        G_randomized.add_edge(work, edge_end)"
   ]
  },
  {
   "cell_type": "code",
   "execution_count": 72,
   "metadata": {},
   "outputs": [
    {
     "name": "stdout",
     "output_type": "stream",
     "text": [
      "       Graph | 'works'\n",
      "       Nodes | 6,478 (iso=81)\n",
      "       Edges | 31,070 (loop=0)\n",
      "      Degree | 9.59 (max=6,082)\n",
      "         LCC | 98.7% (n=82)\n",
      "  Clustering | 0.0000\n",
      "\n",
      "       Graph | 'randomized attributes'\n",
      "       Nodes | 6,478 (iso=0)\n",
      "       Edges | 31,070 (loop=0)\n",
      "      Degree | 9.59 (max=3,110)\n",
      "         LCC | 100.0% (n=1)\n",
      "  Clustering | 0.0000\n",
      "\n"
     ]
    },
    {
     "data": {
      "image/png": "[encoded data removed]",
      "text/plain": [
       "<Figure size 640x480 with 1 Axes>"
      ]
     },
     "metadata": {},
     "output_type": "display_data"
    },
    {
     "data": {
      "image/png": "[encoded data removed]",
      "text/plain": [
       "<Figure size 640x480 with 1 Axes>"
      ]
     },
     "metadata": {},
     "output_type": "display_data"
    }
   ],
   "source": [
    "info(G)\n",
    "info(G_randomized)\n",
    "plot_degree(G)\n",
    "plot_degree(G_randomized)"
   ]
  },
  {
   "cell_type": "code",
   "execution_count": null,
   "metadata": {},
   "outputs": [],
   "source": []
  }
 ],
 "metadata": {
  "kernelspec": {
   "display_name": "Python 3",
   "language": "python",
   "name": "python3"
  },
  "language_info": {
   "codemirror_mode": {
    "name": "ipython",
    "version": 3
   },
   "file_extension": ".py",
   "mimetype": "text/x-python",
   "name": "python",
   "nbconvert_exporter": "python",
   "pygments_lexer": "ipython3",
   "version": "3.11.9"
  }
 },
 "nbformat": 4,
 "nbformat_minor": 2
}
