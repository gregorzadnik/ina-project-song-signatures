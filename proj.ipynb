{
 "cells": [
  {
   "cell_type": "code",
   "execution_count": 13,
   "metadata": {},
   "outputs": [
    {
     "name": "stdout",
     "output_type": "stream",
     "text": [
      "6511\n",
      "31235\n"
     ]
    }
   ],
   "source": [
    "import networkx as nx\n",
    "def read(filepath):\n",
    "    G = nx.Graph()\n",
    "    with open(filepath, 'r') as file:\n",
    "        line = file.readline()\n",
    "        n = int(line.strip().split(\" \")[1])\n",
    "        for _ in range(n):\n",
    "            parts = file.readline().strip().split(\"!\")\n",
    "            id = int(parts[0])\n",
    "            name = parts[1]\n",
    "            label = parts[2].strip()\n",
    "            G.add_node(id, name=name, label=label)\n",
    "        line = file.readline()\n",
    "        m = int(line.strip().split(\" \")[1])\n",
    "        for _ in range(m):\n",
    "            parts = file.readline().strip().split(\" \")\n",
    "            G.add_edge(int(parts[0]), int(parts[1]))\n",
    "    return G\n",
    "\n",
    "\n",
    "filepath = \"works_labeled.net\"\n",
    "G = read(filepath)\n",
    "n = G.number_of_nodes()\n",
    "m = G.number_of_edges()\n",
    "print(n)\n",
    "print(m)"
   ]
  }
 ],
 "metadata": {
  "kernelspec": {
   "display_name": "Python 3",
   "language": "python",
   "name": "python3"
  },
  "language_info": {
   "codemirror_mode": {
    "name": "ipython",
    "version": 3
   },
   "file_extension": ".py",
   "mimetype": "text/x-python",
   "name": "python",
   "nbconvert_exporter": "python",
   "pygments_lexer": "ipython3",
   "version": "3.9.1"
  }
 },
 "nbformat": 4,
 "nbformat_minor": 2
}
