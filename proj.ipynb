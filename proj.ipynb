{
 "cells": [
  {
   "cell_type": "code",
   "execution_count": 2,
   "metadata": {},
   "outputs": [],
   "source": [
    "from collections import defaultdict, deque\n",
    "import random\n",
    "import numpy as np\n",
    "import os\n",
    "from typing import *\n",
    "from tqdm import tqdm\n",
    "import networkx as nx\n",
    "from matplotlib import pyplot as plt\n",
    "\n",
    "DEFAULT_DATA_FOLDER = \"./networks\""
   ]
  },
  {
   "cell_type": "code",
   "execution_count": 3,
   "metadata": {},
   "outputs": [
    {
     "name": "stdout",
     "output_type": "stream",
     "text": [
      "6478\n",
      "31070\n"
     ]
    }
   ],
   "source": [
    "def read(filepath):\n",
    "    G = nx.Graph()\n",
    "    with open(filepath, 'r') as file:\n",
    "        line = file.readline()\n",
    "        n = int(line.strip().split(\" \")[1])\n",
    "        for _ in range(n):\n",
    "            parts = file.readline().strip().split(\"!\")\n",
    "            id = int(parts[0])\n",
    "            name = parts[1]\n",
    "            label = parts[2].strip()\n",
    "            G.add_node(id, name=name, label=label)\n",
    "        line = file.readline()\n",
    "        m = int(line.strip().split(\" \")[1])\n",
    "        for _ in range(m):\n",
    "            parts = file.readline().strip().split(\" \")\n",
    "            G.add_edge(int(parts[0]), int(parts[1]))\n",
    "    return G\n",
    "\n",
    "\n",
    "filepath = \"works.net\"\n",
    "G = read(filepath)\n",
    "n = G.number_of_nodes()\n",
    "m = G.number_of_edges()\n",
    "G.name = \"works\"\n",
    "print(n)\n",
    "print(m)"
   ]
  },
  {
   "cell_type": "code",
   "execution_count": 4,
   "metadata": {},
   "outputs": [],
   "source": [
    "# vir: https://github.com/lovre/www/blob/master/ina/labs/utils.py\n",
    "\n",
    "def info(G: nx.Graph, distance_sample: int | None = None,\n",
    "         clustering_sample: int | None = 10_000) -> None:\n",
    "    \"\"\"Prints basic information on the provided graph.\n",
    "    - If distance_sample is given, distance statistics will be computed from\n",
    "    a sample of nodes (of given size).\n",
    "    - If clustering_sample is given, average clustering will be computed from\n",
    "    a sample of nodes (of given size).\n",
    "    \"\"\"\n",
    "    print(\"{:>12s} | '{:s}'\".format(str(G).split()[0], G.name))\n",
    "\n",
    "    n = G.number_of_nodes()\n",
    "    m = G.number_of_edges()\n",
    "\n",
    "    print(\"{:>12s} | {:,d} (iso={:,d})\".format(\n",
    "        'Nodes', n, nx.number_of_isolates(G)))\n",
    "    print(\"{:>12s} | {:,d} (loop={:,d})\".format(\n",
    "        'Edges', m, nx.number_of_selfloops(G)))\n",
    "\n",
    "    if G.is_directed():\n",
    "        print(\"{:>12s} | {:.2f} max(in={:d}, out={:d})\".format(\n",
    "            'Degree', m / n, max(k for _, k in G.in_degree()),\n",
    "            max(k for _, k in G.out_degree())))\n",
    "    else:\n",
    "        print(\"{:>12s} | {:.2f} (max={:,d})\".format(\n",
    "            'Degree', 2 * m / n, max((k for _, k in G.degree()))))\n",
    "\n",
    "    C = list(nx.connected_components(nx.Graph(G) if G.is_directed else G))\n",
    "    largest_comp = max(C, key=len)\n",
    "\n",
    "    print(\"{:>12s} | {:.1f}% (n={:,d})\".format(\n",
    "        'LCC', 100 * len(largest_comp) / n, len(C)))\n",
    "\n",
    "    if distance_sample is not None:\n",
    "        G_lcc = G.subgraph(largest_comp)\n",
    "        if n <= distance_sample:\n",
    "            mean = nx.average_shortest_path_length(G_lcc)\n",
    "            diam = nx.diameter(G_lcc)\n",
    "        else:\n",
    "            D = distances(G_lcc, n=distance_sample)\n",
    "            mean = np.mean(D)\n",
    "            diam = max(D)\n",
    "\n",
    "        print(\"{:>12s} | {:.2f} (max={:,d})\".format('Distance', mean, diam))\n",
    "\n",
    "    if clustering_sample is not None:\n",
    "        if isinstance(G, nx.MultiGraph):\n",
    "            G = nx.Graph(G)\n",
    "\n",
    "        clustering_on = G.nodes if n <= clustering_sample \\\n",
    "            else random.sample(list(G.nodes), k=clustering_sample)\n",
    "\n",
    "        print(\"{:>12s} | {:.4f}\".format(\n",
    "            'Clustering', nx.average_clustering(G, clustering_on)))\n",
    "    print()"
   ]
  },
  {
   "cell_type": "code",
   "execution_count": 5,
   "metadata": {},
   "outputs": [],
   "source": [
    "# vir: https://github.com/lovre/www/blob/master/ina/labs/utils.py\n",
    "\n",
    "def plot_degree(G: nx.Graph, save_path: str | None = None) -> None:\n",
    "    \"\"\"Plots degree distribution(s) on a log-log plot.\n",
    "    If save_path is given, the plot will be saved in given folder/file\n",
    "    instead of being shown.\"\"\"\n",
    "    plt.clf()\n",
    "    plt.title(G.name + \" degree distribution\")\n",
    "    plt.ylabel('$p_k$')\n",
    "    plt.xlabel('$k$')\n",
    "    n = G.number_of_nodes()\n",
    "\n",
    "    def aux(degree_view: Iterable, k_min: int, **kwargs):\n",
    "        degree_count = Counter(k for _, k in degree_view)\n",
    "        k_max = max(degree_count.keys())\n",
    "\n",
    "        x = list(range(k_min, k_max + 1))\n",
    "        y = [degree_count[i] / n for i in x]\n",
    "        plt.loglog(x, y, 'o', **kwargs)\n",
    "\n",
    "    if G.is_directed():\n",
    "        aux(G.out_degree, k_min=0, label=\"outdegree\", color=\"pink\")\n",
    "        aux(G.in_degree, k_min=0, label=\"indegree\", color=\"purple\", alpha=0.5)\n",
    "        plt.legend()\n",
    "    else:\n",
    "        aux(G.degree, k_min=1, color=\"gray\")\n",
    "\n",
    "    if save_path is None:\n",
    "        plt.show()\n",
    "    else:\n",
    "        if len(os.path.splitext(save_path)[1]) == 0: # no extension\n",
    "            plt.savefig(os.path.join(save_path, f\"{G.name}_degree_distro.pdf\"))\n",
    "        else:\n",
    "            plt.savefig(save_path)"
   ]
  },
  {
   "cell_type": "code",
   "execution_count": 6,
   "metadata": {},
   "outputs": [
    {
     "name": "stdout",
     "output_type": "stream",
     "text": [
      "       Graph | 'works'\n",
      "       Nodes | 6,478 (iso=81)\n",
      "       Edges | 31,070 (loop=0)\n",
      "      Degree | 9.59 (max=6,082)\n",
      "         LCC | 98.7% (n=82)\n",
      "  Clustering | 0.0000\n",
      "\n"
     ]
    },
    {
     "data": {
      "image/png": "[encoded data removed]",
      "text/plain": [
       "<Figure size 640x480 with 1 Axes>"
      ]
     },
     "metadata": {},
     "output_type": "display_data"
    }
   ],
   "source": [
    "info(G)\n",
    "plot_degree(G)"
   ]
  },
  {
   "cell_type": "code",
   "execution_count": 34,
   "metadata": {},
   "outputs": [],
   "source": [
    "def find_node(G: nx.Graph, label: str):\n",
    "    \"\"\"Finds node with given label in G.\"\"\"\n",
    "    for i, data in G.nodes(data=True):\n",
    "        if data['name'] == label:\n",
    "            return i\n",
    "    raise ValueError(f\"node '{label}' not found in {G.name}\")"
   ]
  },
  {
   "cell_type": "code",
   "execution_count": 7,
   "metadata": {},
   "outputs": [],
   "source": [
    "# vir: https://github.com/lovre/www/blob/master/ina/labs/utils.py\n",
    "\n",
    "def top_nodes(G: nx.Graph, C: Dict[Any, float], centrality: str, n=15) -> List[Any]:\n",
    "    \"\"\"prints and returns top n nodes by given measure of centrality\"\"\"\n",
    "\n",
    "    # OPT take callable instead of dict, only compute centrality on non-mode nodes\n",
    "    # OPT np.argpartition instead of sort\n",
    "    print(\"{:>12s} | '{:s}'\".format('Centrality', centrality))\n",
    "    nodes = []\n",
    "    for i, c in sorted(C.items(), key=lambda item: (item[1], G.degree[item[0]]), reverse=True):\n",
    "        # if G.nodes[i]['label'] == 'Key':\n",
    "        nodes.append(G.nodes[i])\n",
    "        print(\"{:>12.6f} | '{:s}' ({:,d}) '{:s}'\".format(\n",
    "            c, G.nodes[i]['label'], G.degree[i], G.nodes[i]['name'][:30]))\n",
    "        n -= 1\n",
    "        if n == 0:\n",
    "            break\n",
    "    print()\n",
    "    return nodes\n",
    "\n",
    "\n",
    "def nodes_names(nodes) -> List[str]:\n",
    "    \"\"\"Parses labels of nodes in collaboration_imdb.net into\n",
    "    a nicer format. Try pasting the ouput of this function into\n",
    "    chatGPT if you have trouble classifying the actors.\"\"\"\n",
    "    names = []\n",
    "    for n in nodes:\n",
    "        try:\n",
    "            last, fst = n[\"label\"].split(\", \")\n",
    "            if fst[-1] == ')':\n",
    "                fst = fst[:fst.index('(') - 1]\n",
    "\n",
    "            names.append(f\"{fst} {last}\")\n",
    "        except ValueError: # failed unpacking\n",
    "            names.append(n[\"label\"])\n",
    "\n",
    "    return names\n"
   ]
  },
  {
   "cell_type": "code",
   "execution_count": 28,
   "metadata": {},
   "outputs": [],
   "source": [
    "def pagerank(G: nx.Graph, alpha=0.85, eps=1e-6, teleport: Set | None = None):\n",
    "    P = [1 / len(G)] * len(G)\n",
    "    diff = 1\n",
    "    while diff > eps:\n",
    "        U = [sum([P[j] * alpha / G.degree(j) for j in G[i]])\n",
    "             for i in G.nodes()]\n",
    "        u = sum(U)\n",
    "        if teleport is not None:\n",
    "            for i in teleport:\n",
    "                U[i] += (1 - u) / len(teleport) * 10\n",
    "            c = sum(U)\n",
    "            U = [u / c for u in U]\n",
    "        else:\n",
    "            U = [U[i] + (1 - u) / len(G) for i in G.nodes()]\n",
    "        c = sum(U)\n",
    "        diff = sum([abs(P[i] - U[i]) for i in G.nodes()])\n",
    "        P = U\n",
    "    return {i: P[i] for i in range(len(P))}"
   ]
  },
  {
   "cell_type": "code",
   "execution_count": 10,
   "metadata": {},
   "outputs": [],
   "source": [
    "tmpG = nx.convert_node_labels_to_integers(G)"
   ]
  },
  {
   "cell_type": "code",
   "execution_count": 36,
   "metadata": {},
   "outputs": [],
   "source": [
    "popular_neighbors = set(G.neighbors(find_node(G, \"Popular\")))"
   ]
  },
  {
   "cell_type": "code",
   "execution_count": 39,
   "metadata": {},
   "outputs": [
    {
     "name": "stdout",
     "output_type": "stream",
     "text": [
      "  Centrality | 'PageRank'\n",
      "    0.048260 | 'Popularity' (6,082) 'Nonpopular'\n",
      "    0.025207 | 'Genre' (1,976) 'Orchestral'\n",
      "    0.014877 | 'Genre' (2,098) 'Chamber'\n",
      "    0.014567 | 'Period' (730) 'Romantic'\n",
      "    0.011056 | 'Genre' (1,955) 'Keyboard'\n",
      "    0.010871 | 'Period' (2,381) 'Baroque'\n",
      "    0.010094 | 'Period' (694) 'Early Romantic'\n",
      "    0.007285 | 'Period' (1,412) 'Classical'\n",
      "    0.005602 | 'Key' (654) 'C major'\n",
      "    0.005596 | 'Composer' (188) 'Ludwig van Beethoven'\n",
      "    0.005364 | 'Period' (260) '20th Century'\n",
      "    0.005145 | 'Key' (458) 'E flat major'\n",
      "    0.005125 | 'Key' (501) 'B flat major'\n",
      "    0.004981 | 'Work' (5) 'String Quartet no. 2 in A mino'\n",
      "    0.004967 | 'Composer' (342) 'Wolfgang Amadeus Mozart'\n",
      "\n",
      "  Centrality | 'PageRank'\n",
      "    0.089673 | 'Popularity' (6,082) 'Nonpopular'\n",
      "    0.034928 | 'Period' (2,381) 'Baroque'\n",
      "    0.030953 | 'Genre' (2,098) 'Chamber'\n",
      "    0.029142 | 'Genre' (1,976) 'Orchestral'\n",
      "    0.028846 | 'Genre' (1,955) 'Keyboard'\n",
      "    0.020706 | 'Period' (1,412) 'Classical'\n",
      "    0.010878 | 'Period' (730) 'Romantic'\n",
      "    0.010243 | 'Period' (694) 'Early Romantic'\n",
      "    0.009810 | 'Period' (656) 'Late Romantic'\n",
      "    0.009698 | 'Key' (659) 'D major'\n",
      "    0.009645 | 'Key' (654) 'C major'\n",
      "    0.008175 | 'Composer' (557) 'Domenico Scarlatti'\n",
      "    0.007821 | 'Key' (531) 'G major'\n",
      "    0.007407 | 'Key' (501) 'B flat major'\n",
      "    0.006955 | 'Key' (472) 'F major'\n",
      "\n"
     ]
    },
    {
     "data": {
      "text/plain": [
       "['Popularity',\n",
       " 'Period',\n",
       " 'Genre',\n",
       " 'Genre',\n",
       " 'Genre',\n",
       " 'Period',\n",
       " 'Period',\n",
       " 'Period',\n",
       " 'Period',\n",
       " 'Key',\n",
       " 'Key',\n",
       " 'Composer',\n",
       " 'Key',\n",
       " 'Key',\n",
       " 'Key']"
      ]
     },
     "execution_count": 39,
     "metadata": {},
     "output_type": "execute_result"
    }
   ],
   "source": [
    "nodes_names(top_nodes(tmpG, pagerank(tmpG, teleport=popular_neighbors), \"PageRank\"))\n",
    "nodes_names(top_nodes(G, nx.pagerank(G), \"PageRank\"))"
   ]
  }
 ],
 "metadata": {
  "kernelspec": {
   "display_name": "Python 3",
   "language": "python",
   "name": "python3"
  },
  "language_info": {
   "codemirror_mode": {
    "name": "ipython",
    "version": 3
   },
   "file_extension": ".py",
   "mimetype": "text/x-python",
   "name": "python",
   "nbconvert_exporter": "python",
   "pygments_lexer": "ipython3",
   "version": "3.11.9"
  }
 },
 "nbformat": 4,
 "nbformat_minor": 2
}
